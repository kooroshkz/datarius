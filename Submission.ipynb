{
 "cells": [
  {
   "cell_type": "markdown",
   "metadata": {},
   "source": [
    "# ANS Project Submission"
   ]
  },
  {
   "cell_type": "markdown",
   "metadata": {},
   "source": [
    "### 1\n",
    "Confirm > Next Question"
   ]
  },
  {
   "cell_type": "markdown",
   "metadata": {},
   "source": [
    "### 2"
   ]
  },
  {
   "cell_type": "markdown",
   "metadata": {},
   "source": [
    "```markdown\n",
    "1. Landlords have: ssn, phone, mail, and name and can be registered in a Housing Agency.\n",
    "2. Tenants have: ssn, phone, mail, name, job, and can only rent one property.\n",
    "3. Properties have: address, postcode, status (furnished/unfurnished), rent, and rooms and can have multiple tenants.\n",
    "4. Housing agencies have websites, names, and areas of operation.\n",
    "5. Flats are properties that also have a floor number and can have a kitchen.\n",
    "6. Houses are properties that can have a garage and a garden.\n",
    "7. Every landlord must have at least one property.\n",
    "8. Properties can have 0 or more tenants.\n",
    "9. A housing contract is a relation between a Landlord, Tenants, and optionally a Housing Agency.\n",
    "10. Tenants can also be resident assistants and residents, a resident assistant manages a group of residents```"
   ]
  },
  {
   "cell_type": "markdown",
   "metadata": {},
   "source": [
    "### 3a\n",
    "\n",
    "![ERD](files/ERD.jpg)\n",
    "\n",
    "Download .jpg file from datarius/files/ERD.jpg"
   ]
  },
  {
   "cell_type": "markdown",
   "metadata": {},
   "source": [
    "### 3b"
   ]
  },
  {
   "cell_type": "markdown",
   "metadata": {},
   "source": [
    "This is an Entity-Relationship Diagram (ERD) for a housing rental system. It shows how different entities relate to each other.\n",
    "\n",
    "\"IS-A\" Relationship: This is present between the Property and its subtypes House and Flat. This relationship shows inheritance, where House and Flat inherit attributes from Property and also have their unique attributes.\n",
    "\n",
    "Aggregation: The \"Contracts\" relation is associated with the \"Supervised by Housing management\" relation table.\n",
    "\n",
    "Ternary Relationship: The Contracts relation table involves Property, Landlord, and Tenant entities.\n",
    "\n",
    "Weak Entities: Based on the landlord's entities, we identify Emergency Contacts as weak entities.\n",
    "\n",
    "The relationships are as follows:\n",
    "\n",
    "- Landlord to Property: One-to-many (at least one).\n",
    "- Tenant to Property: Many-to-one (a tenant can rent only one property at a time).\n",
    "- Property to Tenant: One-to-many (a property can be rented by multiple tenants, but not at the same time based on point 3).\n",
    "- Housing Agency to Landlord: One-to-many (an agency can have multiple landlords registered).\n",
    "- Housing Agency to Property: One-to-many (an agency supervises many properties).\n",
    "- Resident Assistant to Residents: One-to-many (an RA manages a group of residents)."
   ]
  },
  {
   "cell_type": "markdown",
   "metadata": {},
   "source": [
    "### 4a"
   ]
  },
  {
   "cell_type": "markdown",
   "metadata": {},
   "source": [
    "```sql\n",
    "--create table for landlords\n",
    "DROP TABLE IF EXISTS Landlords;\n",
    "CREATE TABLE Landlords(\n",
    "lssn INTEGER PRIMARY KEY, \n",
    "name TEXT NOT NULL, \n",
    "job TEXT, phone INTEGER, email TEXT NOT NULL);\n",
    "\n",
    "INSERT INTO Landlords (lssn, name, job, phone, email) VALUES\n",
    "(2984, 'Laura Smith', 'Engineer', 0694829475, 'laurasmith@email.com'),\n",
    "(2985, 'Mark Johnson', 'Teacher', 0672829054, 'markjohnson@email.com'),\n",
    "(2986, 'Sarah Brown', 'Nurse', 0656724003, 'sarahbrown@email.com'),\n",
    "(2987, 'Michael Davis', 'Architect', 0638824067, 'michaeldavis@email.com'),\n",
    "(2988, 'Emma Wilson', 'Lawyer', 0625824011, 'emmawilson@email.com'),\n",
    "(2989, 'Daniel Moore', 'Chef', 0693824062, 'danielmoore@email.com'),\n",
    "(2990, 'Olivia Taylor', 'Artist', 0681824033, 'oliviataylor@email.com'),\n",
    "(2991, 'William Anderson', 'Writer', 0649824076, 'williamanderson@email.com'),\n",
    "(8392, 'Sophia Thomas', 'Scientist', 0665824099, 'sophiathomas@email.com'),\n",
    "(2993, 'Lucas Jackson', 'Musician', 0677824004, 'lucasjackson@email.com'),\n",
    "(2564, 'Mia Martin', 'Photographer', 0653824065, 'miamartin@email.com'),\n",
    "(1195, 'Benjamin Lee', 'Programmer', 0642824088, 'benjaminlee@email.com'),\n",
    "(5666, 'Isabella Harris', 'Designer', 0631824077, 'isabellaharris@email.com'),\n",
    "(7997, 'Ethan Clark', 'Accountant', 0629824066, 'ethanclark@email.com'),\n",
    "(3575, 'Ava Lewis', 'Journalist', 0699824055, 'avalewis@email.com'),\n",
    "(2999, 'Matthew Walker', 'Doctor', 0683824012, 'matthewwalker@email.com'),\n",
    "(5425, 'Elizabeth Allen', 'Dentist', 0674824078, 'elizabethallen@email.com'),\n",
    "(3001, 'Henry Young', 'Economist', 0663824089, 'henryyoung@email.com'),\n",
    "(9658, 'Zoe Hernandez', 'Psychologist', 0658824056, 'zoehernandez@email.com'),\n",
    "(5455, 'Jackson King', 'Biologist', 0644824047, 'jacksonking@email.com');\n",
    "\n",
    "--create table for tenants\n",
    "DROP TABLE IF EXISTS Tenants;\n",
    "CREATE TABLE Tenants(\n",
    "tssn INTEGER PRIMARY KEY, \n",
    "name TEXT NOT NULL, \n",
    "job TEXT, phone INTEGER, \n",
    "email TEXT NOT NULL, \n",
    "cid INTEGER,\n",
    "FOREIGN KEY (cid)\n",
    "REFERENCES Contracts(cid));\n",
    "\n",
    "INSERT INTO Tenants (tssn, name, job, phone, email, cid) VALUES \n",
    "(948343,'John Doe','Student',068346234,'j.doe@email.com', 538),\n",
    "(235786,'Mary Smith','Programmer',067892345,'mary.smith@email.com', 714),\n",
    "(674821,'David Johnson','Student',065432789,'david.johnson@email.com', 269),\n",
    "(389765,'Emily Brown','Student',068947123,'emily.brown@email.com', 785),\n",
    "(546278,'Emma Wilson','Lawyer',064512378,'emmawilson@email.com', 413),\n",
    "(123590,'Daniel Moore','Chef',067823456,'danielmoore@email.com', 626),\n",
    "(789452,'Christopher Anderson','Student',062378945,'christopher.anderson@email.com', 821),\n",
    "(982345,'Samantha Martinez','Student',069874512,'samantha.martinez@email.com', 472),\n",
    "(456783,'James Thompson','Programmer',061234567,'james.thompson@email.com', 199),\n",
    "(879234,'Amanda Davis','Student',068735624,'amanda.davis@email.com', 823),\n",
    "(234568,'Robert Rodriguez','Teacher',065498712,'robert.rodriguez@email.com', 982),\n",
    "(784512,'Olivia Garcia','Student',063472189,'olivia.garcia@email.com', 601),\n",
    "(325478,'Daniel Hernandez','Programmer',064897321,'daniel.hernandez@email.com', 428),\n",
    "(657894,'Isabella Lopez','Artist',067382945,'isabella.lopez@email.com', 695),\n",
    "(347865,'William Martinez','Programmer',062345671,'william.martinez@email.com', 185),\n",
    "(219873,'Ava Gonzalez','Student',069845231,'ava.gonzalez@email.com', 742),\n",
    "(568912,'Sophia Perez','Student',068734512,'sophia.perez@email.com', 437),\n",
    "(456789,'Alexander Wilson','Student',065493821,'alexander.wilson@email.com', 374),\n",
    "(678945,'Mia Moore','Student',064235789,'mia.moore@email.com', 805),\n",
    "(198273,'Jacob Jackson','Student',067894512,'jacob.jackson@email.com', 249);\n",
    "\n",
    "--WEAK ENTITY SET\n",
    "DROP TABLE IF EXISTS EmergencyContacts;\n",
    "CREATE TABLE EmergencyContacts(\n",
    "    ename TEXT NOT NULL,\n",
    "    ephone INTEGER, \n",
    "    lssn INTEGER UNIQUE,\n",
    "    PRIMARY KEY(ephone, lssn),\n",
    "    FOREIGN KEY(lssn) REFERENCES Landlords(lssn) ON DELETE CASCADE);\n",
    "\n",
    "INSERT INTO EmergencyContacts (ename, ephone, lssn) VALUES \n",
    "    ('John Doe', 1234567890, 2984),\n",
    "    ('Mary Smith', 2345678901, 2985),\n",
    "    ('David Johnson', 3456789012, 2986),\n",
    "    ('Emily Brown', 4567890123, 2987),\n",
    "    ('Emma Wilson', 5678901234, 2988),\n",
    "    ('Daniel Moore', 6789012345, 2989),\n",
    "    ('Christopher Anderson', 7890123456, 2990),\n",
    "    ('Samantha Martinez', 8901234567, 2991),\n",
    "    ('James Thompson', 9012345678, 8392),\n",
    "    ('Amanda Davis', 1234567891, 2993);\n",
    "\n",
    "--emails are set to not null because we need them for communication as well as names\n",
    "\n",
    "--create table for housing agencies\n",
    "DROP TABLE IF EXISTS HousingAgency;\n",
    "    CREATE TABLE HousingAgency(\n",
    "    a_name TEXT PRIMARY KEY,\n",
    "    website TEXT,\n",
    "    area TEXT);\n",
    "\n",
    "INSERT INTO HousingAgency (a_name, website, area) VALUES \n",
    "('De Huurbaas', 'www.dehuurbaas.nl', 'Leiden Centrum'),\n",
    "('Woning Wereld', 'www.woningwereld.nl', 'Leiden Zuid'),\n",
    "('Huis Huren', 'www.huishuren.nl', 'Leiden Oost'),\n",
    "('De Makelaar', 'www.demakelaar.nl', 'Leiden Noord'),\n",
    "('Huur Expert', 'www.huurexpert.nl', 'Leiden Binnenstad'),\n",
    "('PandPlaats', 'www.pandplaats.nl', 'Leiden Merenwijk'),\n",
    "('Huur Winkel', 'www.huurwinkel.nl', 'Leiden Stevenshof'),\n",
    "('Woon Expertise', 'www.woonexpertise.nl', 'Leiden Rijnsoever'),\n",
    "('KamerGemak', 'www.kamergemak.nl', 'Leiden Groenoord'),\n",
    "('HuisVinder', 'www.huisvinder.nl', 'Leiden Cronestein');\n",
    "\n",
    "--create table with property attributes\n",
    "DROP TABLE IF EXISTS Property_Manages;\n",
    "CREATE TABLE Property_Manages(\n",
    "paddress TEXT, postcode TEXT,\n",
    "rent INTEGER, rooms INTEGER, \n",
    "is_furnished BOOLEAN,\n",
    "PRIMARY KEY(paddress, postcode));\n",
    "\n",
    "--use inheritance to create flats and houses (IS-A relationship with Property_Manages)\n",
    "--IS A RELATIONSHIP\n",
    "--flats have also a floor number and own kitchen and houses have a garden and garage\n",
    "\n",
    "DROP TABLE IF EXISTS Flats;\n",
    "CREATE TABLE Flats(\n",
    "paddress TEXT, postcode TEXT,\n",
    "floor_number INTEGER, own_kitchen BOOLEAN,\n",
    "PRIMARY KEY(paddress, postcode), \n",
    "FOREIGN KEY(paddress, postcode) \n",
    "REFERENCES Property_Manages(paddress, postcode)\n",
    "ON DELETE CASCADE);\n",
    "\n",
    "INSERT INTO Flats (paddress, postcode, floor_number, own_kitchen) VALUES \n",
    "('Steenstraat 10','2312 BW Leiden',3,1),\n",
    "('Einsteinweg 20','2333 CC Leiden',2,0),\n",
    "('Hooigracht 87','2312 KP Leiden',1,1),\n",
    "('Kerkstraat 23','2301 AB Leiden',4,0),\n",
    "('Winkelsteegseweg 12','2302 CD Leiden',2,1),\n",
    "('Kloosterweg 76','2315 EF Leiden',3,1),\n",
    "('Oude Singel 33','2314 GH Leiden',2,0),\n",
    "('Beestenmarkt 44','2313 XY Leiden',5,1),\n",
    "('Hogewoerd 21','2311 HC Leiden',1,0),\n",
    "('Rapenburg 8','2311 EW Leiden',4,1),\n",
    "('Herengracht 15','2312 LM Leiden',3,0),\n",
    "('Breestraat 19','2311 CH Leiden',2,1),\n",
    "('Molenstraat 5','2315 JK Leiden',1,0),\n",
    "('Nieuwe Rijn 27','2312 JX Leiden',3,1),\n",
    "('Hogewoerd 68','2311 HT Leiden',2,0),\n",
    "('Langegracht 92','2312 VA Leiden',4,1),\n",
    "('Rapenburg 72','2311 GJ Leiden',1,0),\n",
    "('Zoeterwoudsesingel 36','2313 DW Leiden',3,1),\n",
    "('Vrijheidslaan 65','2321 JR Leiden',1,1),\n",
    "('Kort Rapenburg 2','2311 GC Leiden',2,1);\n",
    "\n",
    "DROP TABLE IF EXISTS Houses;\n",
    "CREATE TABLE Houses(\n",
    "paddress TEXT, postcode TEXT,\n",
    "garden BOOLEAN, garage BOOLEAN,\n",
    "PRIMARY KEY(paddress, postcode),\n",
    "FOREIGN KEY(paddress, postcode) \n",
    "REFERENCES Property_Manages(paddress, postcode)\n",
    "ON DELETE CASCADE);\n",
    "\n",
    "INSERT INTO Houses (paddress, postcode, garden, garage) VALUES \n",
    "('Gangetje 3','2311 ER Leiden',1,1),\n",
    "('Zonneveldstraat 7','2313 VP Leiden',0,1),\n",
    "('Dorpstraat 14','2316 AD Leiden',1,1),\n",
    "('Jan van Goyenkade 29','2311 AD Leiden',1,0),\n",
    "('Oosterkerkstraat 6','2313 RV Leiden',1,1),\n",
    "('Botermarkt 22','2311 EN Leiden',0,1),\n",
    "('Kolfmakersteeg 4','2312 TA Leiden',3,1),\n",
    "('Hoge Woerd 40','2312 HJ Leiden',1,0),\n",
    "('Vlietweg 9','2315 TM Leiden',1,1),\n",
    "('Langebrug 11','2311 TG Leiden',0,1),\n",
    "('Witte Singel 8','2311 BG Leiden',1,1),\n",
    "('Kerkplein 5','2312 PK Leiden',1,0),\n",
    "('Roodenburgerdistrict 14','2315 GE Leiden',1,1),\n",
    "('Vestestraat 20','2312 SH Leiden',1,0),\n",
    "('Rijn en Schiekade 36','2311 LM Leiden',0,1),\n",
    "('Schelpenkade 16','2313 ZZ Leiden',1,0),\n",
    "('Dorpsstraat 29','2317 BA Leiden',1,1),\n",
    "('Pieterskerk-Choorsteeg 22','2311 XS Leiden',1,1),\n",
    "('Gasthuissteeg 3','2312 AT Leiden',1,1),\n",
    "('Breestraat 9','2311 AA Leiden',1,0);\n",
    "\n",
    "\n",
    "--modify the property to model 1 to many\n",
    "--relationship with landlords\n",
    "ALTER TABLE Property_Manages\n",
    "ADD COLUMN lssn INTEGER \n",
    "REFERENCES Landlords(lssn);\n",
    "\n",
    "\n",
    "--SELF-JOIN with roles\n",
    "--resident assistants and residents (for tenants), there is an RA for a certain group of tenants\n",
    "\n",
    "DROP TABLE IF EXISTS Assists;\n",
    "CREATE TABLE Assists(\n",
    "resident_assistant_ssn INTEGER,\n",
    "resident_ssn INTEGER, \n",
    "PRIMARY KEY(resident_assistant_ssn, resident_ssn),\n",
    "FOREIGN KEY(resident_assistant_ssn) REFERENCES Tenants(tssn),\n",
    "FOREIGN KEY(resident_ssn) REFERENCES Tenants(tssn));\n",
    "\n",
    "INSERT INTO Assists (resident_assistant_ssn, resident_ssn) VALUES \n",
    "(948343, 235786),\n",
    "(674821, 389765),\n",
    "(546278, 123590),\n",
    "(789452, 982345),\n",
    "(456783, 879234),\n",
    "(234568, 784512),\n",
    "(325478, 657894),\n",
    "(347865, 219873),\n",
    "(568912, 456789),\n",
    "(678945, 198273);\n",
    "\n",
    "--AGGREGATION\n",
    "--a landlord can have multiple tenants for once contract\n",
    "--a housing agency can have 0 or more contracts so it\n",
    "--is optional in the relationship\n",
    "\n",
    "--KEY CONSTRAINT\n",
    "--a tenant can have only one contract\n",
    "--that is why we alter the table tenants instead of \n",
    "--adding tssn to Contracts\n",
    "\n",
    "--TERNARY RELATIONSHIP\n",
    "DROP TABLE IF EXISTS Contracts;\n",
    "CREATE TABLE Contracts(\n",
    "cid INTEGER PRIMARY KEY,\n",
    "lssn INTEGER NOT NULL,\n",
    "a_name TEXT,\n",
    "paddress TEXT NOT NULL,\n",
    "postcode TEXT NOT NULL,\n",
    "FOREIGN KEY(lssn) REFERENCES Landlords(lssn),\n",
    "FOREIGN KEY(a_name) REFERENCES HousingAgency(a_name)\n",
    "FOREIGN KEY(paddress, postcode) REFERENCES Property_Manages(paddress, postcode));\n",
    "\n",
    "--combined total participation and key constraint\n",
    "\n",
    "INSERT INTO Property_Manages (paddress, postcode, rent, rooms, is_furnished, lssn) VALUES \n",
    "('Steenstraat 35','2312 BT Leiden',845,2,1,1195),\n",
    "('Hooigracht 78','2312 KP Leiden',800,1,1,2989),\n",
    "('Oude Singel 33','2333 GH Leiden',710,1,1,2993),\n",
    "('Beestenmarkt 44','2313 XY Leiden',1480,3,1,2987),\n",
    "('Hogewoerd 21','2311 HC Leiden',690,1,1,2987),\n",
    "('Dorpstraat 14','2333 AD Leiden',490,1,0,2988),\n",
    "('Jan van Goyenkade 29','2311 AD Leiden',1520,3,1,8392),\n",
    "('Oosterkerkstraat 6','2313 RV Leiden',670,1,1,2991),\n",
    "('Kolfmakersteeg 4','2312 TA Leiden',1640,3,1,2993),\n",
    "('Vrouwensteeg 8','2312 DM Leiden',720,1,1,2988),\n",
    "('Bargelaan 25','2333 CT Leiden',1570,3,1,1195),\n",
    "('Diefsteeg 17','2311 TW Leiden',680,1,1,2988),\n",
    "('Oude Rijn 41','2312 HG Leiden',1530,3,1,2564),\n",
    "('Vismarkt 10','2332 LJ Leiden',1490,3,1,2),\n",
    "('Kerkstraat 7','2312 BH Leiden',900,2,1,7997),\n",
    "('Nieuwstraat 14','2315 EA Leiden',1200,2,1,5666),\n",
    "('Schelpenkade 9','2333 ZZ Leiden',1100,2,1,2999),\n",
    "('Langegracht 5','2312 VA Leiden',980,2,1,3575),\n",
    "('Molenstraat 12','2315 JK Leiden',920,2,1,5455),\n",
    "('Achterom 8','2311 TV Leiden',1000,2,1,9658),\n",
    "('Vestestraat 16','2312 SH Leiden',940,2,1,5425),\n",
    "('Hoge Woerd 20','2312 HJ Leiden',950,2,1,3201);\n",
    "\n",
    "INSERT INTO Contracts (cid, lssn, a_name, paddress, postcode) VALUES \n",
    "(269, 1195, 'Huis Huren', 'Steenstraat 35', '2312 BT Leiden'),\n",
    "(785, 2989, 'De Makelaar', 'Hooigracht 78', '2312 KP Leiden'),\n",
    "(696, 2993, 'Huur Winkel', 'Oude Singel 33', '2333 GH Leiden'),\n",
    "(742, 2987, 'PandPlaats', 'Beestenmarkt 44', '2313 XY Leiden'),\n",
    "(413, 8392, 'Huur Expert', 'Jan van Goyenkade 29', '2311 AD Leiden'),\n",
    "(626, 2991, 'PandPlaats', 'Oosterkerkstraat 6', '2313 RV Leiden'),\n",
    "(821, 2993, 'Huur Winkel', 'Kolfmakersteeg 4', '2312 TA Leiden'),\n",
    "(472, 1195, 'Woon Expertise', 'Bargelaan 25', '2333 CT Leiden'),\n",
    "(199, 2988, 'KamerGemak', 'Diefsteeg 17', '2311 TW Leiden'),\n",
    "(823, 2564, 'HuisVinder', 'Oude Rijn 41', '2312 HG Leiden'),\n",
    "(982, 3002, 'De Huurdbaas', 'Vismarkt 10', '2332 LJ Leiden'),\n",
    "(601, 7997, 'Woning Wereld', 'Kerkstraat 7', '2312 BH Leiden'),\n",
    "(428, 5666, 'Huis Huren', 'Nieuwstraat 14', '2315 EA Leiden'),\n",
    "(695, 2999, 'De Makelaar', 'Schelpenkade 9', '2333 ZZ Leiden'),\n",
    "(185, 3575, 'Huur Expert', 'Langegracht 5', '2312 VA Leiden'),\n",
    "(437, 5455, 'Huur Winkel', 'Molenstraat 12', '2315 JK Leiden'),\n",
    "(374, 9658, 'Woon Expertise', 'Achterom 8', '2311 TV Leiden'),\n",
    "(805, 5425, 'KamerGemak', 'Vestestraat 16', '2312 SH Leiden'),\n",
    "(249, 3201, 'HuisVinder', 'Hoge Woerd 20', '2312 HJ Leiden');\n",
    "```"
   ]
  },
  {
   "cell_type": "markdown",
   "metadata": {},
   "source": [
    "### 4b"
   ]
  },
  {
   "cell_type": "markdown",
   "metadata": {},
   "source": [
    "We cannot enforce total participation between the tenant and the housing contract by design because, in theory, the cid field for the tenant table can be null so we manually have to insert all the tenant tuples with not empty cids."
   ]
  },
  {
   "cell_type": "markdown",
   "metadata": {},
   "source": [
    "### 5a"
   ]
  },
  {
   "cell_type": "markdown",
   "metadata": {},
   "source": [
    "```sql\n",
    "SELECT job, COUNT(*) AS num_tenants\n",
    "FROM Tenants\n",
    "GROUP BY job\n",
    "HAVING num_tenants > 2;\n",
    "```"
   ]
  },
  {
   "cell_type": "markdown",
   "metadata": {},
   "source": [
    "### 5b"
   ]
  },
  {
   "cell_type": "markdown",
   "metadata": {},
   "source": [
    "It groups tenants by their job titles and counts the number of tenants for each job category.\n",
    "The HAVING clause filters the results to include only those job categories with more than two tenants."
   ]
  },
  {
   "cell_type": "markdown",
   "metadata": {},
   "source": [
    "### 5c"
   ]
  },
  {
   "cell_type": "markdown",
   "metadata": {},
   "source": [
    "```sql\n",
    "SELECT lssn, name\n",
    "FROM Landlords\n",
    "WHERE lssn IN (\n",
    "SELECT lssn FROM Property_Manages\n",
    "WHERE postcode LIKE '%Leiden%')\n",
    "UNION\n",
    "SELECT tssn, name\n",
    "FROM Tenants\n",
    "WHERE cid IN (\n",
    "SELECT cid FROM Contracts\n",
    "WHERE postcode LIKE '%Leiden%');\n",
    "```"
   ]
  },
  {
   "cell_type": "markdown",
   "metadata": {},
   "source": [
    "### 5d"
   ]
  },
  {
   "cell_type": "markdown",
   "metadata": {},
   "source": [
    "Select the landlords own properties in Leiden and tenants who live in Leiden."
   ]
  },
  {
   "cell_type": "markdown",
   "metadata": {},
   "source": [
    "### 5e"
   ]
  },
  {
   "cell_type": "markdown",
   "metadata": {},
   "source": [
    "```sql\n",
    "SELECT paddress, rent\n",
    "FROM Property_Manages\n",
    "WHERE rent > (\n",
    "    SELECT AVG(rent) \n",
    "    FROM Property_Manages\n",
    ");\n",
    "```"
   ]
  },
  {
   "cell_type": "markdown",
   "metadata": {},
   "source": [
    "### 5f"
   ]
  },
  {
   "cell_type": "markdown",
   "metadata": {},
   "source": [
    "This query retrieves the addresses and rents of properties where the rent is higher than the average rent of all properties."
   ]
  },
  {
   "cell_type": "markdown",
   "metadata": {},
   "source": [
    "### 5g"
   ]
  },
  {
   "cell_type": "markdown",
   "metadata": {},
   "source": [
    "```sql\n",
    "SELECT \n",
    "    MAX(rent) AS max_rent,\n",
    "    MIN(rent) AS min_rent,\n",
    "    AVG(rent) AS avg_rent,\n",
    "    SUM(rent) AS total_rent \n",
    "FROM Property_Manages;\n",
    "```"
   ]
  },
  {
   "cell_type": "markdown",
   "metadata": {},
   "source": [
    "### 5h"
   ]
  },
  {
   "cell_type": "markdown",
   "metadata": {},
   "source": [
    "This query retrieves the maximum, minimum, average, and total rent of all properties."
   ]
  },
  {
   "cell_type": "markdown",
   "metadata": {},
   "source": [
    "### 5i"
   ]
  },
  {
   "cell_type": "markdown",
   "metadata": {},
   "source": [
    "```sql\n",
    "SELECT Landlords.name, Property_Manages.paddress\n",
    "FROM Landlords\n",
    "JOIN Property_Manages ON Landlords.lssn = Property_Manages.lssn;\n",
    "```"
   ]
  },
  {
   "cell_type": "markdown",
   "metadata": {},
   "source": [
    "### 5j"
   ]
  },
  {
   "cell_type": "markdown",
   "metadata": {},
   "source": [
    "This command will retrieve the names of the landlords\n",
    "with addresses of their properties where the lssn matches between the two tables."
   ]
  },
  {
   "cell_type": "markdown",
   "metadata": {},
   "source": [
    "### 5k"
   ]
  },
  {
   "cell_type": "markdown",
   "metadata": {},
   "source": [
    "```sql\n",
    "SELECT lssn, name\n",
    "FROM Landlords\n",
    "WHERE lssn IN (\n",
    "SELECT lssn FROM EmergencyContacts E\n",
    "WHERE E.ename LIKE 'E%');\n",
    "```"
   ]
  },
  {
   "cell_type": "markdown",
   "metadata": {},
   "source": [
    "### 5l"
   ]
  },
  {
   "cell_type": "markdown",
   "metadata": {},
   "source": [
    "Select lssn and name of landlords who have an emergency contact that has a name that starts with E."
   ]
  },
  {
   "cell_type": "markdown",
   "metadata": {},
   "source": [
    "### 5m"
   ]
  },
  {
   "cell_type": "markdown",
   "metadata": {},
   "source": [
    "```sql\n",
    "SELECT l.name, AVG(pm.rent) AS average_rent\n",
    "FROM Landlords l\n",
    "JOIN Property_Manages pm ON l.lssn = pm.lssn\n",
    "GROUP BY l.name;\n",
    "```"
   ]
  },
  {
   "cell_type": "markdown",
   "metadata": {},
   "source": [
    "### 5n"
   ]
  },
  {
   "cell_type": "markdown",
   "metadata": {},
   "source": [
    "This query will help identify the landlords who manages properties with the highest average rent, which can help us find lucrative property management opportunities."
   ]
  },
  {
   "cell_type": "markdown",
   "metadata": {},
   "source": [
    "### 5o"
   ]
  },
  {
   "cell_type": "markdown",
   "metadata": {},
   "source": [
    "```sql\n",
    "SELECT tssn, name\n",
    "FROM Tenants\n",
    "WHERE cid IN \n",
    "(SELECT cid FROM Property_Manages\n",
    "WHERE (paddress, postcode) IN \n",
    "(SELECT paddress, postcode \n",
    "FROM Flats\n",
    "WHERE own_kitchen = TRUE));\n",
    "```"
   ]
  },
  {
   "cell_type": "markdown",
   "metadata": {},
   "source": [
    "### 5p"
   ]
  },
  {
   "cell_type": "markdown",
   "metadata": {},
   "source": [
    "Select ssn and names of tenants who live in flats with their own kitchen."
   ]
  }
 ],
 "metadata": {
  "kernelspec": {
   "display_name": "base",
   "language": "python",
   "name": "python3"
  },
  "language_info": {
   "codemirror_mode": {
    "name": "ipython",
    "version": 3
   },
   "file_extension": ".py",
   "mimetype": "text/x-python",
   "name": "python",
   "nbconvert_exporter": "python",
   "pygments_lexer": "ipython3",
   "version": "3.10.9"
  }
 },
 "nbformat": 4,
 "nbformat_minor": 2
}
